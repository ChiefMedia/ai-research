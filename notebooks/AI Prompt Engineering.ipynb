{
 "cells": [
  {
   "cell_type": "markdown",
   "id": "353054ca",
   "metadata": {},
   "source": [
    "# Research with Gemini\n",
    "\n",
    "We're going to be testing Google's Gemini API. \n",
    "\n",
    "Credentials are located in config.yaml in the ai-research root folder."
   ]
  },
  {
   "cell_type": "markdown",
   "id": "2f1599ee",
   "metadata": {},
   "source": [
    "## Setup"
   ]
  },
  {
   "cell_type": "code",
   "execution_count": 1,
   "id": "e888abe5",
   "metadata": {},
   "outputs": [],
   "source": [
    "# Imports\n",
    "from chiefai.ai import analyze_campaign_data\n",
    "from chiefai.db import query\n",
    "import polars as pl\n",
    "\n",
    "# Notebook formatting\n",
    "from IPython.display import display, HTML, Markdown"
   ]
  },
  {
   "cell_type": "code",
   "execution_count": 2,
   "id": "5f6420d6",
   "metadata": {},
   "outputs": [
    {
     "data": {
      "text/html": [
       "<div><style>\n",
       ".dataframe > thead > tr,\n",
       ".dataframe > tbody > tr {\n",
       "  text-align: right;\n",
       "  white-space: pre-wrap;\n",
       "}\n",
       "</style>\n",
       "<small>shape: (3, 37)</small><table border=\"1\" class=\"dataframe\"><thead><tr><th>id</th><th>core_client</th><th>project_id</th><th>user_id</th><th>session_id</th><th>unique_key</th><th>postal_code</th><th>region</th><th>dma</th><th>dma_code</th><th>city</th><th>country</th><th>browser</th><th>device</th><th>device_type</th><th>search_engine</th><th>medium</th><th>source</th><th>platform</th><th>platform_version</th><th>bounce</th><th>session_date_time</th><th>ip_address</th><th>pages</th><th>search_terms</th><th>language</th><th>latitude</th><th>longitude</th><th>organization</th><th>referrer</th><th>session_length</th><th>created_at</th><th>updated_at</th><th>core_product</th><th>last_access</th><th>content</th><th>session</th></tr><tr><td>i64</td><td>str</td><td>i64</td><td>str</td><td>str</td><td>str</td><td>str</td><td>str</td><td>str</td><td>i64</td><td>str</td><td>str</td><td>str</td><td>str</td><td>str</td><td>str</td><td>str</td><td>str</td><td>str</td><td>str</td><td>str</td><td>datetime[μs]</td><td>str</td><td>list[struct[2]]</td><td>str</td><td>str</td><td>f64</td><td>f64</td><td>str</td><td>str</td><td>str</td><td>datetime[μs]</td><td>datetime[μs]</td><td>str</td><td>datetime[μs]</td><td>null</td><td>null</td></tr></thead><tbody><tr><td>99735578</td><td>&quot;OPOS&quot;</td><td>82884616</td><td>&quot;50182511673882&quot;</td><td>&quot;3288761085059530754&quot;</td><td>&quot;828846165018251167388232887610…</td><td>null</td><td>null</td><td>null</td><td>0</td><td>null</td><td>&quot;USA&quot;</td><td>&quot;Unknown&quot;</td><td>null</td><td>&quot;Desktop/laptop&quot;</td><td>null</td><td>&quot;paidsocial&quot;</td><td>&quot;snapchat&quot;</td><td>&quot;Unknown&quot;</td><td>&quot;Unknown&quot;</td><td>&quot;true&quot;</td><td>2024-01-03 13:11:13</td><td>&quot;34.123.204.87&quot;</td><td>[{&quot;collections/vaginal-health&quot;,0}]</td><td>null</td><td>&quot;Unknown&quot;</td><td>37.751</td><td>-97.822</td><td>&quot;Google&quot;</td><td>&quot;Direct&quot;</td><td>&quot;0&quot;</td><td>2024-01-03 13:13:00.337214</td><td>2024-01-03 13:13:00.337784</td><td>&quot;&quot;</td><td>2024-01-03 13:11:13</td><td>null</td><td>null</td></tr><tr><td>99735579</td><td>&quot;OPOS&quot;</td><td>82884616</td><td>&quot;78135251450464&quot;</td><td>&quot;5120671839057608705&quot;</td><td>&quot;828846167813525145046451206718…</td><td>&quot;32163&quot;</td><td>&quot;Florida&quot;</td><td>&quot;Orlando, FL&quot;</td><td>534</td><td>&quot;The Villages&quot;</td><td>&quot;USA&quot;</td><td>&quot;Safari&quot;</td><td>&quot;Apple iPhone&quot;</td><td>&quot;Mobile&quot;</td><td>null</td><td>&quot;paidsocial&quot;</td><td>&quot;ig&quot;</td><td>&quot;iOS&quot;</td><td>&quot;iOS 17.1&quot;</td><td>&quot;true&quot;</td><td>2024-01-03 13:11:13</td><td>&quot;68.205.39.5&quot;</td><td>[{&quot;collections/vaginal-health&quot;,0}]</td><td>null</td><td>&quot;English (United States)&quot;</td><td>28.9265</td><td>-81.9928</td><td>&quot;Spectrum&quot;</td><td>&quot;instagram.com&quot;</td><td>&quot;0&quot;</td><td>2024-01-03 13:13:00.337214</td><td>2024-01-03 13:13:00.337784</td><td>&quot;&quot;</td><td>2024-01-03 13:11:13</td><td>null</td><td>null</td></tr><tr><td>99735580</td><td>&quot;OPOS&quot;</td><td>82884616</td><td>&quot;103390995781948&quot;</td><td>&quot;6775832299565744285&quot;</td><td>&quot;828846161033909957819486775832…</td><td>null</td><td>null</td><td>null</td><td>0</td><td>null</td><td>&quot;USA&quot;</td><td>&quot;Chrome&quot;</td><td>&quot;Generic Android&quot;</td><td>&quot;Mobile&quot;</td><td>null</td><td>null</td><td>&quot;Direct&quot;</td><td>&quot;Android&quot;</td><td>&quot;Android 9.0&quot;</td><td>&quot;true&quot;</td><td>2024-01-03 13:11:13</td><td>&quot;147.160.184.123&quot;</td><td>[{&quot;tools/recurring/login&quot;,0}]</td><td>null</td><td>&quot;English (United States)&quot;</td><td>37.751</td><td>-97.822</td><td>&quot;Unknown&quot;</td><td>&quot;Direct&quot;</td><td>&quot;0&quot;</td><td>2024-01-03 13:13:00.337214</td><td>2024-01-03 13:13:00.337784</td><td>&quot;&quot;</td><td>2024-01-03 13:11:13</td><td>null</td><td>null</td></tr></tbody></table></div>"
      ],
      "text/plain": [
       "shape: (3, 37)\n",
       "┌──────────┬────────────┬────────────┬────────────┬───┬────────────┬───────────┬─────────┬─────────┐\n",
       "│ id       ┆ core_clien ┆ project_id ┆ user_id    ┆ … ┆ core_produ ┆ last_acce ┆ content ┆ session │\n",
       "│ ---      ┆ t          ┆ ---        ┆ ---        ┆   ┆ ct         ┆ ss        ┆ ---     ┆ ---     │\n",
       "│ i64      ┆ ---        ┆ i64        ┆ str        ┆   ┆ ---        ┆ ---       ┆ null    ┆ null    │\n",
       "│          ┆ str        ┆            ┆            ┆   ┆ str        ┆ datetime[ ┆         ┆         │\n",
       "│          ┆            ┆            ┆            ┆   ┆            ┆ μs]       ┆         ┆         │\n",
       "╞══════════╪════════════╪════════════╪════════════╪═══╪════════════╪═══════════╪═════════╪═════════╡\n",
       "│ 99735578 ┆ OPOS       ┆ 82884616   ┆ 5018251167 ┆ … ┆            ┆ 2024-01-0 ┆ null    ┆ null    │\n",
       "│          ┆            ┆            ┆ 3882       ┆   ┆            ┆ 3         ┆         ┆         │\n",
       "│          ┆            ┆            ┆            ┆   ┆            ┆ 13:11:13  ┆         ┆         │\n",
       "│ 99735579 ┆ OPOS       ┆ 82884616   ┆ 7813525145 ┆ … ┆            ┆ 2024-01-0 ┆ null    ┆ null    │\n",
       "│          ┆            ┆            ┆ 0464       ┆   ┆            ┆ 3         ┆         ┆         │\n",
       "│          ┆            ┆            ┆            ┆   ┆            ┆ 13:11:13  ┆         ┆         │\n",
       "│ 99735580 ┆ OPOS       ┆ 82884616   ┆ 1033909957 ┆ … ┆            ┆ 2024-01-0 ┆ null    ┆ null    │\n",
       "│          ┆            ┆            ┆ 81948      ┆   ┆            ┆ 3         ┆         ┆         │\n",
       "│          ┆            ┆            ┆            ┆   ┆            ┆ 13:11:13  ┆         ┆         │\n",
       "└──────────┴────────────┴────────────┴────────────┴───┴────────────┴───────────┴─────────┴─────────┘"
      ]
     },
     "execution_count": 2,
     "metadata": {},
     "output_type": "execute_result"
    }
   ],
   "source": [
    "data = query(\"SELECT * FROM web_visit_results LIMIT 5\")\n",
    "data.head(3)"
   ]
  },
  {
   "cell_type": "markdown",
   "id": "87173c2c",
   "metadata": {},
   "source": [
    "## Assess AI Approach to Data Analysis\n",
    "\n",
    "We're going to use the make_gemini_request function in chiefmedai.ai to send data. \n",
    "\n",
    "The approach we're going to try is to create summary statistics from the database and programmatically generate a text query to feed to the AI model. We'll use prompt injection of the data to do this. \n",
    "\n",
    "Firstly we'll try getting simple counts of orders by platform and ask the AI model to assess the results. \n"
   ]
  },
  {
   "cell_type": "code",
   "execution_count": 3,
   "id": "e0d42203",
   "metadata": {},
   "outputs": [],
   "source": [
    "query_str = \"\"\"\n",
    "WITH results AS (\n",
    "    select \n",
    "        p.unique_key,\n",
    "        COALESCE(s.station_name, p.station) AS station, \n",
    "        p.date,\n",
    "        CASE \n",
    "            WHEN EXTRACT(ISODOW FROM p.date) = 1 THEN 'Monday'\n",
    "            WHEN EXTRACT(ISODOW FROM p.date) = 2 THEN 'Tuesday'\n",
    "            WHEN EXTRACT(ISODOW FROM p.date) = 3 THEN 'Wednesday'\n",
    "            WHEN EXTRACT(ISODOW FROM p.date) = 4 THEN 'Thursday'\n",
    "            WHEN EXTRACT(ISODOW FROM p.date) = 5 THEN 'Friday'\n",
    "            WHEN EXTRACT(ISODOW FROM p.date) = 6 THEN 'Saturday'\n",
    "            ELSE 'Sunday'\n",
    "        END AS weekday,\n",
    "        cbd.cdaypart AS daypart, \n",
    "        p.length, \n",
    "        p.buyrate AS spend, \n",
    "        lam.online_visits, \n",
    "        lam.online_orders, \n",
    "        lam.online_revenue, \n",
    "        lam.online_leads, \n",
    "        lam.impressions AS target_demo_impressions, \n",
    "        lam.impressions2 AS total_impressions\n",
    "    from core_post_time p\n",
    "    left outer join core_tape_details td ON td.tapecd = p.tape\n",
    "        AND td.cmedia = p.media\n",
    "        AND td.cclient = p.client\n",
    "        AND td.cproduct = p.product\n",
    "        AND td.startdate <= p.bcdate\n",
    "        AND td.enddate >= p.bcdate\n",
    "    left outer join core_tape_parent tpp ON tpp.ctpparent = td.ctpparent\n",
    "        AND tpp.cclient = p.client\n",
    "        AND tpp.cproduct = p.product\n",
    "    left outer join linear_attribution_metrics lam ON lam.unique_key = p.unique_key\n",
    "    join core_estimate est ON est.cmedia = p.media\n",
    "        AND est.cclient = p.client\n",
    "        AND est.cproduct = p.product\n",
    "        AND est.cestimate = p.estimate\n",
    "    join core_buy_detail cbd ON cbd.nbuydetid = p.buydetid\n",
    "    join core_buy_table cbt ON cbt.nbuyid = p.buyid\n",
    "    join stations s ON s.core_label = p.station\n",
    "    where p.client = 'OPOS'\n",
    "        AND p.media != 'OL'\n",
    "        AND p.date >= NOW() - INTERVAL '4 weeks'\n",
    ")\n",
    "\n",
    "SELECT \n",
    "    station,\n",
    "    weekday,\n",
    "    daypart,\n",
    "    COUNT(unique_key) AS spot_count,\n",
    "    SUM(spend) AS total_spend,\n",
    "    ROUND(AVG(spend)) AS average_spend,\n",
    "    SUM(online_visits) AS total_visits,\n",
    "    ROUND(AVG(online_visits)) AS average_visits,\n",
    "    SUM(online_leads) AS total_leads,\n",
    "    ROUND(AVG(online_leads)) AS average_leads,\n",
    "    SUM(online_orders) AS total_orders,\n",
    "    ROUND(AVG(online_orders)) AS average_orders,\n",
    "    ROUND(SUM(online_revenue)::NUMERIC, 2) AS total_revenue,\n",
    "    ROUND(AVG(online_revenue)::NUMERIC, 2) AS average_order_value,\n",
    "    SUM(target_demo_impressions) AS total_target_demo_impressions,\n",
    "    ROUND(AVG(target_demo_impressions)) AS average_target_demo_impressions,\n",
    "    CASE \n",
    "        WHEN SUM(target_demo_impressions) = 0 THEN 0 \n",
    "        ELSE ROUND(SUM(spend) / SUM(target_demo_impressions), 2)\n",
    "    END AS cpm_target_demo,\n",
    "    SUM(total_impressions) AS total_all_demo_impressions,\n",
    "    ROUND(AVG(total_impressions)) AS average_all_demo_impressions,\n",
    "    CASE \n",
    "        WHEN SUM(total_impressions) = 0 THEN 0 \n",
    "        ELSE ROUND(SUM(spend) / SUM(total_impressions), 2)\n",
    "    END AS cpm_all_demo\n",
    "FROM results\n",
    "GROUP BY     \n",
    "    station,\n",
    "    weekday,\n",
    "    daypart\n",
    "\"\"\""
   ]
  },
  {
   "cell_type": "code",
   "execution_count": 4,
   "id": "5d1f0e2e",
   "metadata": {},
   "outputs": [
    {
     "name": "stdout",
     "output_type": "stream",
     "text": [
      "shape: (3, 20)\n",
      "┌────────────┬─────────┬─────────┬────────────┬───┬────────────┬───────────┬───────────┬───────────┐\n",
      "│ station    ┆ weekday ┆ daypart ┆ spot_count ┆ … ┆ cpm_target ┆ total_all ┆ average_a ┆ cpm_all_d │\n",
      "│ ---        ┆ ---     ┆ ---     ┆ ---        ┆   ┆ _demo      ┆ _demo_imp ┆ ll_demo_i ┆ emo       │\n",
      "│ str        ┆ str     ┆ str     ┆ i64        ┆   ┆ ---        ┆ ressions  ┆ mpression ┆ ---       │\n",
      "│            ┆         ┆         ┆            ┆   ┆ decimal[*, ┆ ---       ┆ s         ┆ decimal[* │\n",
      "│            ┆         ┆         ┆            ┆   ┆ 2]         ┆ i64       ┆ ---       ┆ ,2]       │\n",
      "│            ┆         ┆         ┆            ┆   ┆            ┆           ┆ decimal[* ┆           │\n",
      "│            ┆         ┆         ┆            ┆   ┆            ┆           ┆ ,0]       ┆           │\n",
      "╞════════════╪═════════╪═════════╪════════════╪═══╪════════════╪═══════════╪═══════════╪═══════════╡\n",
      "│ A&E        ┆ Friday  ┆ DA      ┆ 1          ┆ … ┆ 58.33      ┆ 188       ┆ 188       ┆ 3.72      │\n",
      "│ NETWORK    ┆         ┆         ┆            ┆   ┆            ┆           ┆           ┆           │\n",
      "│ A&E        ┆ Friday  ┆ EF      ┆ 3          ┆ … ┆ 65.45      ┆ 315       ┆ 105       ┆ 11.43     │\n",
      "│ NETWORK    ┆         ┆         ┆            ┆   ┆            ┆           ┆           ┆           │\n",
      "│ A&E        ┆ Monday  ┆ DA      ┆ 2          ┆ … ┆ 63.64      ┆ 333       ┆ 167       ┆ 4.20      │\n",
      "│ NETWORK    ┆         ┆         ┆            ┆   ┆            ┆           ┆           ┆           │\n",
      "└────────────┴─────────┴─────────┴────────────┴───┴────────────┴───────────┴───────────┴───────────┘\n"
     ]
    }
   ],
   "source": [
    "data = query(query_str)\n",
    "print(data.head(3))"
   ]
  },
  {
   "cell_type": "markdown",
   "id": "0ec26fff",
   "metadata": {},
   "source": [
    "### Basic data validations"
   ]
  },
  {
   "cell_type": "code",
   "execution_count": 10,
   "id": "a194adca",
   "metadata": {},
   "outputs": [
    {
     "data": {
      "text/html": [
       "<div><style>\n",
       ".dataframe > thead > tr,\n",
       ".dataframe > tbody > tr {\n",
       "  text-align: right;\n",
       "  white-space: pre-wrap;\n",
       "}\n",
       "</style>\n",
       "<small>shape: (146,)</small><table border=\"1\" class=\"dataframe\"><thead><tr><th>total_revenue</th></tr><tr><td>decimal[*,2]</td></tr></thead><tbody><tr><td>null</td></tr><tr><td>222.21</td></tr><tr><td>207.72</td></tr><tr><td>113.22</td></tr><tr><td>null</td></tr><tr><td>&hellip;</td></tr><tr><td>218.54</td></tr><tr><td>837.99</td></tr><tr><td>265.56</td></tr><tr><td>287.84</td></tr><tr><td>1395.17</td></tr></tbody></table></div>"
      ],
      "text/plain": [
       "shape: (146,)\n",
       "Series: 'total_revenue' [decimal[*,2]]\n",
       "[\n",
       "\tnull\n",
       "\t222.21\n",
       "\t207.72\n",
       "\t113.22\n",
       "\tnull\n",
       "\t…\n",
       "\t218.54\n",
       "\t837.99\n",
       "\t265.56\n",
       "\t287.84\n",
       "\t1395.17\n",
       "]"
      ]
     },
     "execution_count": 10,
     "metadata": {},
     "output_type": "execute_result"
    }
   ],
   "source": [
    "data['total_revenue']"
   ]
  },
  {
   "cell_type": "markdown",
   "id": "da2f9d88",
   "metadata": {},
   "source": [
    "## Hybrid Prompt"
   ]
  },
  {
   "cell_type": "code",
   "execution_count": 5,
   "id": "91fbb228",
   "metadata": {},
   "outputs": [
    {
     "name": "stdout",
     "output_type": "stream",
     "text": [
      "Prompt length: 14994 characters (~3748 tokens)\n",
      "Prompt saved to: ./debug_output/prompt_20250602_170010.txt\n",
      "Gemini response type: <class 'str'>\n",
      "Response length: 7722 characters\n",
      "First 200 chars: ```json\n",
      "{\n",
      "  \"insights\": [\n",
      "    {\n",
      "      \"finding\": \"The overall campaign is significantly unprofitable, but high-performing segments offer a clear path to profitability.\",\n",
      "      \"evidence\": \"The campaig\n",
      "Full Gemini response saved to: ./debug_output/gemini_response_20250602_170044.txt\n",
      "Full analysis results saved to: ./debug_output/analysis_results_20250602_170044.json\n",
      "{'visits_per_spot': {'mean': 19.79, 'median': 14.5, 'std_dev': 15.84, 'min': 0.0, 'max': 63.0, 'sample_size': 142}, 'leads_per_spot': {'mean': 8.62, 'median': 5.66, 'std_dev': 8.0, 'min': 0.0, 'max': 42.0, 'sample_size': 142}, 'orders_per_spot': {'mean': 1.63, 'median': 1.2, 'std_dev': 1.5, 'min': 0.0, 'max': 6.5, 'sample_size': 142}, 'revenue_per_spot': {'mean': 78.88, 'median': 53.4, 'std_dev': 76.0, 'min': 0.0, 'max': 333.63, 'sample_size': 142}, 'cost_per_visit': {'mean': 51.27, 'median': 25.0, 'std_dev': 115.08, 'min': 0.0, 'max': 900.0, 'sample_size': 139}, 'cost_per_lead': {'mean': 103.34, 'median': 63.49, 'std_dev': 227.72, 'min': 0.0, 'max': 2400.0, 'sample_size': 131}, 'cost_per_order': {'mean': 372.73, 'median': 300.0, 'std_dev': 292.01, 'min': 0.0, 'max': 1900.0, 'sample_size': 123}, 'roi': {'mean': -0.81, 'median': -0.86, 'std_dev': 0.18, 'min': -1.0, 'max': -0.07, 'sample_size': 140}, 'cpm_target_demo': {'mean': 37.34, 'median': 23.98, 'std_dev': 47.7, 'min': 0.0, 'max': 366.67, 'sample_size': 146}, 'cpm_all_demo': {'mean': 4.43, 'median': 3.29, 'std_dev': 3.84, 'min': 0.0, 'max': 25.0, 'sample_size': 146}}\n",
      "{'station': [{'value': 'LIFETIME MOVIE NETWORK', 'spot_count': 142, 'total_spend': 63700.0, 'roi': 0.43, 'cost_per_order': 111.95, 'orders_per_spot': 4.01, 'cpm_target_demo': None, 'statistically_significant': True, 'revenue_per_spot_ci': {'lower': 149.61, 'upper': 243.64}}, {'value': 'TLC', 'spot_count': 32, 'total_spend': 19575.0, 'roi': 0.27, 'cost_per_order': 179.59, 'orders_per_spot': 3.41, 'cpm_target_demo': None, 'statistically_significant': True, 'revenue_per_spot_ci': {'lower': 136.14, 'upper': 197.53}}, {'value': 'LIFETIME TELEVISION', 'spot_count': 108, 'total_spend': 63400.0, 'roi': 0.21, 'cost_per_order': 210.63, 'orders_per_spot': 2.79, 'cpm_target_demo': None, 'statistically_significant': True, 'revenue_per_spot_ci': {'lower': 62.72, 'upper': 120.38}}, {'value': 'TBS NETWORK', 'spot_count': 102, 'total_spend': 33600.0, 'roi': 0.2, 'cost_per_order': 252.63, 'orders_per_spot': 1.3, 'cpm_target_demo': None, 'statistically_significant': True, 'revenue_per_spot_ci': {'lower': 51.16, 'upper': 108.51}}, {'value': 'FOOD NETWORK', 'spot_count': 24, 'total_spend': 4440.0, 'roi': 0.18, 'cost_per_order': 261.18, 'orders_per_spot': 0.71, 'cpm_target_demo': None, 'statistically_significant': True, 'revenue_per_spot_ci': {'lower': 9.11, 'upper': 49.26}}, {'value': 'BRAVO', 'spot_count': 32, 'total_spend': 7200.0, 'roi': 0.16, 'cost_per_order': 327.27, 'orders_per_spot': 0.69, 'cpm_target_demo': None, 'statistically_significant': True, 'revenue_per_spot_ci': {'lower': 9.88, 'upper': 49.11}}, {'value': 'TURNER NETWORK TELEVISION', 'spot_count': 32, 'total_spend': 4800.0, 'roi': 0.15, 'cost_per_order': 342.86, 'orders_per_spot': 0.44, 'cpm_target_demo': None, 'statistically_significant': True, 'revenue_per_spot_ci': {'lower': 2.67, 'upper': 43.46}}, {'value': 'WETV', 'spot_count': 127, 'total_spend': 52525.0, 'roi': 0.15, 'cost_per_order': 324.23, 'orders_per_spot': 1.28, 'cpm_target_demo': None, 'statistically_significant': True, 'revenue_per_spot_ci': {'lower': 48.12, 'upper': 118.4}}, {'value': 'GSN', 'spot_count': 57, 'total_spend': 25475.0, 'roi': 0.14, 'cost_per_order': 348.97, 'orders_per_spot': 1.28, 'cpm_target_demo': None, 'statistically_significant': True, 'revenue_per_spot_ci': {'lower': 41.65, 'upper': 111.28}}, {'value': 'AMC', 'spot_count': 43, 'total_spend': 15700.0, 'roi': 0.13, 'cost_per_order': 402.56, 'orders_per_spot': 0.91, 'cpm_target_demo': None, 'statistically_significant': True, 'revenue_per_spot_ci': {'lower': 27.39, 'upper': 88.25}}, {'value': 'INVESTIGATION DISCOVERY', 'spot_count': 38, 'total_spend': 10400.0, 'roi': 0.12, 'cost_per_order': 385.19, 'orders_per_spot': 0.71, 'cpm_target_demo': None, 'statistically_significant': True, 'revenue_per_spot_ci': {'lower': 10.16, 'upper': 48.04}}, {'value': 'USA NETWORK', 'spot_count': 45, 'total_spend': 20700.0, 'roi': 0.1, 'cost_per_order': 504.88, 'orders_per_spot': 0.91, 'cpm_target_demo': None, 'statistically_significant': True, 'revenue_per_spot_ci': {'lower': 21.54, 'upper': 145.29}}, {'value': 'HALLMARK CHANNEL', 'spot_count': 54, 'total_spend': 17050.0, 'roi': 0.09, 'cost_per_order': 516.67, 'orders_per_spot': 0.61, 'cpm_target_demo': None, 'statistically_significant': True, 'revenue_per_spot_ci': {'lower': 10.63, 'upper': 37.46}}, {'value': 'A&E NETWORK', 'spot_count': 10, 'total_spend': 9500.0, 'roi': 0.07, 'cost_per_order': 593.75, 'orders_per_spot': 1.6, 'cpm_target_demo': None, 'statistically_significant': True, 'revenue_per_spot_ci': {'lower': 57.24, 'upper': 131.76}}], 'daypart': [{'value': 'WK', 'spot_count': 75, 'total_spend': 35250.0, 'roi': 0.4, 'cost_per_order': 121.55, 'orders_per_spot': 3.87, 'cpm_target_demo': None, 'statistically_significant': True, 'revenue_per_spot_ci': {'lower': 25.01, 'upper': 213.91}}, {'value': 'EF', 'spot_count': 79, 'total_spend': 42250.0, 'roi': 0.3, 'cost_per_order': 157.65, 'orders_per_spot': 3.39, 'cpm_target_demo': None, 'statistically_significant': True, 'revenue_per_spot_ci': {'lower': 91.39, 'upper': 192.25}}, {'value': 'EM', 'spot_count': 32, 'total_spend': 19575.0, 'roi': 0.27, 'cost_per_order': 179.59, 'orders_per_spot': 3.41, 'cpm_target_demo': None, 'statistically_significant': True, 'revenue_per_spot_ci': {'lower': 136.14, 'upper': 197.53}}, {'value': 'ON', 'spot_count': 418, 'total_spend': 67940.0, 'roi': 0.2, 'cost_per_order': 252.57, 'orders_per_spot': 0.64, 'cpm_target_demo': None, 'statistically_significant': True, 'revenue_per_spot_ci': {'lower': 23.72, 'upper': 36.01}}, {'value': 'DA', 'spot_count': 119, 'total_spend': 82700.0, 'roi': 0.18, 'cost_per_order': 236.96, 'orders_per_spot': 2.93, 'cpm_target_demo': None, 'statistically_significant': True, 'revenue_per_spot_ci': {'lower': 94.44, 'upper': 169.87}}, {'value': 'PR', 'spot_count': 95, 'total_spend': 89150.0, 'roi': 0.14, 'cost_per_order': 350.98, 'orders_per_spot': 2.67, 'cpm_target_demo': None, 'statistically_significant': True, 'revenue_per_spot_ci': {'lower': 101.83, 'upper': 156.73}}, {'value': 'LF', 'spot_count': 28, 'total_spend': 11200.0, 'roi': 0.05, 'cost_per_order': 658.82, 'orders_per_spot': 0.61, 'cpm_target_demo': None, 'statistically_significant': True, 'revenue_per_spot_ci': {'lower': 6.42, 'upper': 33.07}}], 'weekday': [{'value': 'Saturday', 'spot_count': 137, 'total_spend': 48720.0, 'roi': 0.26, 'cost_per_order': 196.45, 'orders_per_spot': 1.81, 'cpm_target_demo': None, 'statistically_significant': True, 'revenue_per_spot_ci': {'lower': 29.24, 'upper': 96.65}}, {'value': 'Sunday', 'spot_count': 101, 'total_spend': 36150.0, 'roi': 0.23, 'cost_per_order': 197.54, 'orders_per_spot': 1.81, 'cpm_target_demo': None, 'statistically_significant': True, 'revenue_per_spot_ci': {'lower': 31.21, 'upper': 79.34}}, {'value': 'Wednesday', 'spot_count': 121, 'total_spend': 56170.0, 'roi': 0.22, 'cost_per_order': 222.02, 'orders_per_spot': 2.09, 'cpm_target_demo': None, 'statistically_significant': True, 'revenue_per_spot_ci': {'lower': 68.58, 'upper': 138.86}}, {'value': 'Friday', 'spot_count': 142, 'total_spend': 57945.0, 'roi': 0.21, 'cost_per_order': 223.73, 'orders_per_spot': 1.82, 'cpm_target_demo': None, 'statistically_significant': True, 'revenue_per_spot_ci': {'lower': 48.12, 'upper': 103.48}}, {'value': 'Thursday', 'spot_count': 138, 'total_spend': 62000.0, 'roi': 0.21, 'cost_per_order': 230.48, 'orders_per_spot': 1.95, 'cpm_target_demo': None, 'statistically_significant': True, 'revenue_per_spot_ci': {'lower': 54.71, 'upper': 106.52}}, {'value': 'Tuesday', 'spot_count': 117, 'total_spend': 51880.0, 'roi': 0.19, 'cost_per_order': 224.59, 'orders_per_spot': 1.97, 'cpm_target_demo': None, 'statistically_significant': True, 'revenue_per_spot_ci': {'lower': 44.1, 'upper': 113.69}}, {'value': 'Monday', 'spot_count': 90, 'total_spend': 35200.0, 'roi': 0.16, 'cost_per_order': 311.5, 'orders_per_spot': 1.26, 'cpm_target_demo': None, 'statistically_significant': True, 'revenue_per_spot_ci': {'lower': 40.48, 'upper': 131.87}}]}\n",
      "[]\n"
     ]
    }
   ],
   "source": [
    "results = analyze_campaign_data(\n",
    "    data,\n",
    "    min_sample_size=5,\n",
    "    confidence_level=0.95,\n",
    "    verbose_prompt=True,\n",
    "    save_debug_files=True\n",
    ")\n",
    "\n",
    "# Even if Gemini fails, you can still access:\n",
    "print(results['summary_statistics'])\n",
    "print(results['dimensional_analysis'])\n",
    "print(results['statistical_insights'])"
   ]
  }
 ],
 "metadata": {
  "kernelspec": {
   "display_name": "ai",
   "language": "python",
   "name": "python3"
  },
  "language_info": {
   "codemirror_mode": {
    "name": "ipython",
    "version": 3
   },
   "file_extension": ".py",
   "mimetype": "text/x-python",
   "name": "python",
   "nbconvert_exporter": "python",
   "pygments_lexer": "ipython3",
   "version": "3.13.3"
  }
 },
 "nbformat": 4,
 "nbformat_minor": 5
}
