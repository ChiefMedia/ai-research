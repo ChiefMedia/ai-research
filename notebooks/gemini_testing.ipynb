{
 "cells": [
  {
   "cell_type": "markdown",
   "id": "353054ca",
   "metadata": {},
   "source": [
    "# Research with Gemini\n",
    "\n",
    "We're going to be testing Google's Gemini API. \n",
    "\n",
    "Credentials are located in config.yaml in the ai-research root folder."
   ]
  },
  {
   "cell_type": "markdown",
   "id": "2f1599ee",
   "metadata": {},
   "source": [
    "## Setup"
   ]
  },
  {
   "cell_type": "code",
   "execution_count": 7,
   "id": "e888abe5",
   "metadata": {},
   "outputs": [],
   "source": [
    "# Imports\n",
    "from chiefai.ai import make_gemini_request\n",
    "from chiefai.db import query\n",
    "import polars as pl\n",
    "\n",
    "# Notebook formatting\n",
    "from IPython.display import display, HTML, Markdown"
   ]
  },
  {
   "cell_type": "code",
   "execution_count": 2,
   "id": "5f6420d6",
   "metadata": {},
   "outputs": [
    {
     "data": {
      "text/html": [
       "<div><style>\n",
       ".dataframe > thead > tr,\n",
       ".dataframe > tbody > tr {\n",
       "  text-align: right;\n",
       "  white-space: pre-wrap;\n",
       "}\n",
       "</style>\n",
       "<small>shape: (3, 37)</small><table border=\"1\" class=\"dataframe\"><thead><tr><th>id</th><th>core_client</th><th>project_id</th><th>user_id</th><th>session_id</th><th>unique_key</th><th>postal_code</th><th>region</th><th>dma</th><th>dma_code</th><th>city</th><th>country</th><th>browser</th><th>device</th><th>device_type</th><th>search_engine</th><th>medium</th><th>source</th><th>platform</th><th>platform_version</th><th>bounce</th><th>session_date_time</th><th>ip_address</th><th>pages</th><th>search_terms</th><th>language</th><th>latitude</th><th>longitude</th><th>organization</th><th>referrer</th><th>session_length</th><th>created_at</th><th>updated_at</th><th>core_product</th><th>last_access</th><th>content</th><th>session</th></tr><tr><td>i64</td><td>str</td><td>i64</td><td>str</td><td>str</td><td>str</td><td>str</td><td>str</td><td>str</td><td>i64</td><td>str</td><td>str</td><td>str</td><td>str</td><td>str</td><td>str</td><td>str</td><td>str</td><td>str</td><td>str</td><td>str</td><td>datetime[μs]</td><td>str</td><td>list[struct[2]]</td><td>str</td><td>str</td><td>f64</td><td>f64</td><td>str</td><td>str</td><td>str</td><td>datetime[μs]</td><td>datetime[μs]</td><td>str</td><td>datetime[μs]</td><td>null</td><td>null</td></tr></thead><tbody><tr><td>99735578</td><td>&quot;OPOS&quot;</td><td>82884616</td><td>&quot;50182511673882&quot;</td><td>&quot;3288761085059530754&quot;</td><td>&quot;828846165018251167388232887610…</td><td>null</td><td>null</td><td>null</td><td>0</td><td>null</td><td>&quot;USA&quot;</td><td>&quot;Unknown&quot;</td><td>null</td><td>&quot;Desktop/laptop&quot;</td><td>null</td><td>&quot;paidsocial&quot;</td><td>&quot;snapchat&quot;</td><td>&quot;Unknown&quot;</td><td>&quot;Unknown&quot;</td><td>&quot;true&quot;</td><td>2024-01-03 13:11:13</td><td>&quot;34.123.204.87&quot;</td><td>[{&quot;collections/vaginal-health&quot;,0}]</td><td>null</td><td>&quot;Unknown&quot;</td><td>37.751</td><td>-97.822</td><td>&quot;Google&quot;</td><td>&quot;Direct&quot;</td><td>&quot;0&quot;</td><td>2024-01-03 13:13:00.337214</td><td>2024-01-03 13:13:00.337784</td><td>&quot;&quot;</td><td>2024-01-03 13:11:13</td><td>null</td><td>null</td></tr><tr><td>99735579</td><td>&quot;OPOS&quot;</td><td>82884616</td><td>&quot;78135251450464&quot;</td><td>&quot;5120671839057608705&quot;</td><td>&quot;828846167813525145046451206718…</td><td>&quot;32163&quot;</td><td>&quot;Florida&quot;</td><td>&quot;Orlando, FL&quot;</td><td>534</td><td>&quot;The Villages&quot;</td><td>&quot;USA&quot;</td><td>&quot;Safari&quot;</td><td>&quot;Apple iPhone&quot;</td><td>&quot;Mobile&quot;</td><td>null</td><td>&quot;paidsocial&quot;</td><td>&quot;ig&quot;</td><td>&quot;iOS&quot;</td><td>&quot;iOS 17.1&quot;</td><td>&quot;true&quot;</td><td>2024-01-03 13:11:13</td><td>&quot;68.205.39.5&quot;</td><td>[{&quot;collections/vaginal-health&quot;,0}]</td><td>null</td><td>&quot;English (United States)&quot;</td><td>28.9265</td><td>-81.9928</td><td>&quot;Spectrum&quot;</td><td>&quot;instagram.com&quot;</td><td>&quot;0&quot;</td><td>2024-01-03 13:13:00.337214</td><td>2024-01-03 13:13:00.337784</td><td>&quot;&quot;</td><td>2024-01-03 13:11:13</td><td>null</td><td>null</td></tr><tr><td>99735580</td><td>&quot;OPOS&quot;</td><td>82884616</td><td>&quot;103390995781948&quot;</td><td>&quot;6775832299565744285&quot;</td><td>&quot;828846161033909957819486775832…</td><td>null</td><td>null</td><td>null</td><td>0</td><td>null</td><td>&quot;USA&quot;</td><td>&quot;Chrome&quot;</td><td>&quot;Generic Android&quot;</td><td>&quot;Mobile&quot;</td><td>null</td><td>null</td><td>&quot;Direct&quot;</td><td>&quot;Android&quot;</td><td>&quot;Android 9.0&quot;</td><td>&quot;true&quot;</td><td>2024-01-03 13:11:13</td><td>&quot;147.160.184.123&quot;</td><td>[{&quot;tools/recurring/login&quot;,0}]</td><td>null</td><td>&quot;English (United States)&quot;</td><td>37.751</td><td>-97.822</td><td>&quot;Unknown&quot;</td><td>&quot;Direct&quot;</td><td>&quot;0&quot;</td><td>2024-01-03 13:13:00.337214</td><td>2024-01-03 13:13:00.337784</td><td>&quot;&quot;</td><td>2024-01-03 13:11:13</td><td>null</td><td>null</td></tr></tbody></table></div>"
      ],
      "text/plain": [
       "shape: (3, 37)\n",
       "┌──────────┬────────────┬────────────┬────────────┬───┬────────────┬───────────┬─────────┬─────────┐\n",
       "│ id       ┆ core_clien ┆ project_id ┆ user_id    ┆ … ┆ core_produ ┆ last_acce ┆ content ┆ session │\n",
       "│ ---      ┆ t          ┆ ---        ┆ ---        ┆   ┆ ct         ┆ ss        ┆ ---     ┆ ---     │\n",
       "│ i64      ┆ ---        ┆ i64        ┆ str        ┆   ┆ ---        ┆ ---       ┆ null    ┆ null    │\n",
       "│          ┆ str        ┆            ┆            ┆   ┆ str        ┆ datetime[ ┆         ┆         │\n",
       "│          ┆            ┆            ┆            ┆   ┆            ┆ μs]       ┆         ┆         │\n",
       "╞══════════╪════════════╪════════════╪════════════╪═══╪════════════╪═══════════╪═════════╪═════════╡\n",
       "│ 99735578 ┆ OPOS       ┆ 82884616   ┆ 5018251167 ┆ … ┆            ┆ 2024-01-0 ┆ null    ┆ null    │\n",
       "│          ┆            ┆            ┆ 3882       ┆   ┆            ┆ 3         ┆         ┆         │\n",
       "│          ┆            ┆            ┆            ┆   ┆            ┆ 13:11:13  ┆         ┆         │\n",
       "│ 99735579 ┆ OPOS       ┆ 82884616   ┆ 7813525145 ┆ … ┆            ┆ 2024-01-0 ┆ null    ┆ null    │\n",
       "│          ┆            ┆            ┆ 0464       ┆   ┆            ┆ 3         ┆         ┆         │\n",
       "│          ┆            ┆            ┆            ┆   ┆            ┆ 13:11:13  ┆         ┆         │\n",
       "│ 99735580 ┆ OPOS       ┆ 82884616   ┆ 1033909957 ┆ … ┆            ┆ 2024-01-0 ┆ null    ┆ null    │\n",
       "│          ┆            ┆            ┆ 81948      ┆   ┆            ┆ 3         ┆         ┆         │\n",
       "│          ┆            ┆            ┆            ┆   ┆            ┆ 13:11:13  ┆         ┆         │\n",
       "└──────────┴────────────┴────────────┴────────────┴───┴────────────┴───────────┴─────────┴─────────┘"
      ]
     },
     "execution_count": 2,
     "metadata": {},
     "output_type": "execute_result"
    }
   ],
   "source": [
    "data = query(\"SELECT * FROM web_visit_results LIMIT 5\")\n",
    "data.head(3)"
   ]
  },
  {
   "cell_type": "markdown",
   "id": "87173c2c",
   "metadata": {},
   "source": [
    "## Assess AI Approach to Data Analysis\n",
    "\n",
    "We're going to use the make_gemini_request function in chiefmedai.ai to send data. \n",
    "\n",
    "The approach we're going to try is to create summary statistics from the database and programmatically generate a text query to feed to the AI model. We'll use prompt injection of the data to do this. \n",
    "\n",
    "Firstly we'll try getting simple counts of orders by platform and ask the AI model to assess the results. \n"
   ]
  },
  {
   "cell_type": "code",
   "execution_count": 26,
   "id": "5d1f0e2e",
   "metadata": {},
   "outputs": [
    {
     "name": "stdout",
     "output_type": "stream",
     "text": [
      "shape: (3, 2)\n",
      "┌─────────────────────┬─────────┐\n",
      "│ source              ┆ revenue │\n",
      "│ ---                 ┆ ---     │\n",
      "│ str                 ┆ f64     │\n",
      "╞═════════════════════╪═════════╡\n",
      "│ portal.afterpay.com ┆ 180.08  │\n",
      "│ instagram.com       ┆ 38.73   │\n",
      "│ google              ┆ 45.47   │\n",
      "└─────────────────────┴─────────┘\n"
     ]
    }
   ],
   "source": [
    "orders_query = \"\"\"\n",
    "    SELECT\n",
    "        source,\n",
    "        revenue::NUMERIC\n",
    "    FROM web_event_results\n",
    "    WHERE \n",
    "        LOWER(event_name) = 'order'\n",
    "        AND event_date_time >= NOW() - INTERVAL '3 days' \n",
    "        AND core_client = 'OPOS'\n",
    "        AND core_product = 'MENO'\n",
    "    LIMIT 1000\n",
    "\"\"\"\n",
    "orders = query(orders_query)\n",
    "orders = orders.with_columns(\n",
    "    pl.col(\"revenue\").cast(pl.Float64).alias(\"revenue\")\n",
    ")\n",
    "print(orders.head(3))"
   ]
  },
  {
   "cell_type": "code",
   "execution_count": 30,
   "id": "15510f33",
   "metadata": {},
   "outputs": [
    {
     "data": {
      "text/html": [
       "<div><style>\n",
       ".dataframe > thead > tr,\n",
       ".dataframe > tbody > tr {\n",
       "  text-align: right;\n",
       "  white-space: pre-wrap;\n",
       "}\n",
       "</style>\n",
       "<small>shape: (5, 4)</small><table border=\"1\" class=\"dataframe\"><thead><tr><th>source</th><th>source_count</th><th>median_revenue</th><th>mean_revenue</th></tr><tr><td>str</td><td>u32</td><td>f64</td><td>f64</td></tr></thead><tbody><tr><td>&quot;instagram.com&quot;</td><td>81</td><td>32.18</td><td>43.182222</td></tr><tr><td>&quot;Direct&quot;</td><td>193</td><td>34.43</td><td>50.141088</td></tr><tr><td>&quot;google&quot;</td><td>321</td><td>31.3</td><td>40.197726</td></tr><tr><td>&quot;fb&quot;</td><td>148</td><td>36.98</td><td>44.272973</td></tr><tr><td>&quot;Klaviyo&quot;</td><td>50</td><td>33.325</td><td>46.5504</td></tr></tbody></table></div>"
      ],
      "text/plain": [
       "shape: (5, 4)\n",
       "┌───────────────┬──────────────┬────────────────┬──────────────┐\n",
       "│ source        ┆ source_count ┆ median_revenue ┆ mean_revenue │\n",
       "│ ---           ┆ ---          ┆ ---            ┆ ---          │\n",
       "│ str           ┆ u32          ┆ f64            ┆ f64          │\n",
       "╞═══════════════╪══════════════╪════════════════╪══════════════╡\n",
       "│ instagram.com ┆ 81           ┆ 32.18          ┆ 43.182222    │\n",
       "│ Direct        ┆ 193          ┆ 34.43          ┆ 50.141088    │\n",
       "│ google        ┆ 321          ┆ 31.3           ┆ 40.197726    │\n",
       "│ fb            ┆ 148          ┆ 36.98          ┆ 44.272973    │\n",
       "│ Klaviyo       ┆ 50           ┆ 33.325         ┆ 46.5504      │\n",
       "└───────────────┴──────────────┴────────────────┴──────────────┘"
      ]
     },
     "execution_count": 30,
     "metadata": {},
     "output_type": "execute_result"
    }
   ],
   "source": [
    "orders_agg = orders.group_by(\n",
    "    \"source\"\n",
    ").agg([\n",
    "    pl.count(\"revenue\").alias(\"source_count\"),\n",
    "    pl.median(\"revenue\").alias(\"median_revenue\"),\n",
    "    pl.mean(\"revenue\").alias(\"mean_revenue\")\n",
    "]).filter(\n",
    "    pl.col(\"source_count\") >= 30\n",
    ")\n",
    "orders_agg.head()"
   ]
  },
  {
   "cell_type": "code",
   "execution_count": 36,
   "id": "d766416a",
   "metadata": {},
   "outputs": [
    {
     "name": "stdout",
     "output_type": "stream",
     "text": [
      "Generated the following descriptive text:\n",
      "\n",
      "        Source: instagram.com\n",
      "        There were 81 orders from this source. \n",
      "        The median revenue per order was $32.18.\n",
      "        The average (mean) revenue per order was $43.18.\n",
      "    ----------------------------------------\n",
      "\n",
      "        Source: Direct\n",
      "        There were 193 orders from this source. \n",
      "        The median revenue per order was $34.43.\n",
      "        The average (mean) revenue per order was $50.14.\n",
      "    ----------------------------------------\n",
      "\n",
      "        Source: google\n",
      "        There were 321 orders from this source. \n",
      "        The median revenue per order was $31.30.\n",
      "        The average (mean) revenue per order was $40.20.\n",
      "    ----------------------------------------\n",
      "\n",
      "        Source: fb\n",
      "        There were 148 orders from this source. \n",
      "        The median revenue per order was $36.98.\n",
      "        The average (mean) revenue per order was $44.27.\n",
      "    ----------------------------------------\n",
      "\n",
      "        Source: Klaviyo\n",
      "        There were 50 orders from this source. \n",
      "        The median revenue per order was $33.33.\n",
      "        The average (mean) revenue per order was $46.55.\n",
      "    ----------------------------------------\n",
      "\n",
      "        Source: applovin\n",
      "        There were 33 orders from this source. \n",
      "        The median revenue per order was $34.43.\n",
      "        The average (mean) revenue per order was $41.30.\n",
      "    \n",
      "\n",
      "Summary: Analyzed revenue statistics for 6 different traffic sources.\n"
     ]
    }
   ],
   "source": [
    "prompt_data = \"\"\n",
    "\n",
    "for row in orders_agg.iter_rows(named=True):\n",
    "    source = row['source']\n",
    "    count = row['source_count']\n",
    "    median = round(row['median_revenue'], 2)\n",
    "    mean = round(row['mean_revenue'], 2)\n",
    "    \n",
    "    # Generate a descriptive paragraph for this source\n",
    "    source_description = f\"\"\"\n",
    "        Source: {source}\n",
    "        There were {count} orders from this source. \n",
    "        The median revenue per order was ${median:.2f}.\n",
    "        The average (mean) revenue per order was ${mean:.2f}.\n",
    "    \"\"\"\n",
    "    \n",
    "    # Add a comparison of mean to median\n",
    "    \"\"\"\n",
    "    if mean > median:\n",
    "        difference = round(mean - median, 2)\n",
    "        source_description += f\"The mean is ${difference:.2f} higher than the median, suggesting some high-value outlier orders.\\n\"\n",
    "    elif median > mean:\n",
    "        difference = round(median - mean, 2)\n",
    "        source_description += f\"The median is ${difference:.2f} higher than the mean, suggesting some low-value outlier orders.\\n\"\n",
    "    else:\n",
    "        source_description += f\"The mean and median are identical, suggesting a symmetrical distribution of order values.\\n\"\n",
    "    \"\"\"\n",
    "        \n",
    "    # Add a separator between sources\n",
    "    source_description += \"-\" * 40 + \"\\n\"\n",
    "    \n",
    "    # Add this source's description to the overall text\n",
    "    prompt_data += source_description\n",
    "\n",
    "# Remove the final separator and add a summary\n",
    "prompt_data = prompt_data.rstrip(\"-\" * 40 + \"\\n\")\n",
    "prompt_data += f\"\\n\\nSummary: Analyzed revenue statistics for {len(orders_agg)} different traffic sources.\"\n",
    "\n",
    "print(\"Generated the following descriptive text:\")\n",
    "print(prompt_data)"
   ]
  },
  {
   "cell_type": "code",
   "execution_count": 39,
   "id": "a11de82f",
   "metadata": {
    "tags": [
     "scroll-output"
    ]
   },
   "outputs": [],
   "source": [
    "# Test AI function\n",
    "prompt = f\"\"\"ArithmeticError\n",
    "I'm sharing revenue data from our e-commerce store, broken down by traffic source. The data includes order counts, median revenue, and mean revenue for each source.\n",
    "\n",
    "[ANALYTICS DATA]\n",
    "{prompt_data}\n",
    "\n",
    "Based on this information, please provide:\n",
    "\n",
    "1. A summary of our overall traffic and revenue patterns\n",
    "2. An analysis of which traffic sources are most valuable in terms of:\n",
    "   - Total revenue contribution\n",
    "   - Revenue per order\n",
    "   - Potential for growth based on order volume\n",
    "\n",
    "3. Insights about any outliers or unusual patterns in the data\n",
    "\n",
    "4. Strategic recommendations for:\n",
    "   - Which traffic sources we should invest more in\n",
    "   - Which sources might need optimization\n",
    "   - Any suggested A/B tests or experiments\n",
    "\n",
    "5. How our traffic source performance compares to typical e-commerce benchmarks\n",
    "\n",
    "Please format your analysis with clear sections and include both tactical and strategic insights. Feel free to note any additional data that would help refine this analysis further.\n",
    "\"\"\""
   ]
  },
  {
   "cell_type": "code",
   "execution_count": 40,
   "id": "6211339e",
   "metadata": {},
   "outputs": [
    {
     "data": {
      "text/markdown": [
       "Okay, here's an analysis of your e-commerce revenue data, broken down by traffic source, with recommendations for optimization and strategic investment.\n",
       "\n",
       "**1. Overall Traffic and Revenue Patterns Summary**\n",
       "\n",
       "*   **Dominant Sources:** Google and Direct traffic are the dominant sources, accounting for the highest order volume (321 and 193 orders respectively).\n",
       "*   **Consistent Median Revenue:**  The median revenue per order is relatively consistent across all sources, hovering around the $31-$37 range. This suggests a stable core product offering that resonates across different customer segments.\n",
       "*   **Mean vs. Median Discrepancy:** The mean revenue per order is consistently higher than the median across all sources. This indicates that a portion of orders within each source are significantly higher in value, pulling the average up.  This is a common pattern in e-commerce, showing that some customers spend considerably more than others.\n",
       "*   **Revenue Skew:** Due to the consistent presence of higher-value customers, a small subset of users likely contributes disproportionately to total revenue across all sources. This highlights the importance of identifying and targeting high-value customers.\n",
       "\n",
       "**2. Traffic Source Valuation**\n",
       "\n",
       "*   **Total Revenue Contribution (Estimated - based on mean):**\n",
       "\n",
       "    *   Google: 321 orders * $40.20/order = ~$12,904\n",
       "    *   Direct: 193 orders * $50.14/order = ~$9,677\n",
       "    *   fb: 148 orders * $44.27/order = ~$6,552\n",
       "    *   instagram.com: 81 orders * $43.18/order = ~$3,498\n",
       "    *   Klaviyo: 50 orders * $46.55/order = ~$2,328\n",
       "    *   applovin: 33 orders * $41.30/order = ~$1,363\n",
       "\n",
       "    *   **Conclusion:** Google is the top revenue driver by a significant margin, followed by Direct, and then Facebook.\n",
       "\n",
       "*   **Revenue Per Order (Mean):**\n",
       "\n",
       "    *   Direct: $50.14\n",
       "    *   Klaviyo: $46.55\n",
       "    *   fb: $44.27\n",
       "    *   instagram.com: $43.18\n",
       "    *   applovin: $41.30\n",
       "    *   Google: $40.20\n",
       "\n",
       "    *   **Conclusion:** Direct traffic and Klaviyo (likely email marketing) show the highest average revenue per order, indicating higher customer value from these channels.\n",
       "\n",
       "*   **Potential for Growth (based on order volume):**\n",
       "\n",
       "    *   Google: Highest volume, indicating the largest potential for growth with optimization.\n",
       "    *   Direct:  High volume, but \"Direct\" traffic can be misleading.  It may include untracked campaigns, returning customers with saved bookmarks, or dark social shares. Requires further investigation.\n",
       "    *   fb: Significant volume, but lower RPO than direct/klaviyo suggests there is potential to improve this.\n",
       "    *   Instagram: Solid volume, could be improved.\n",
       "    *   Klaviyo: Good RPO, but lower volume suggests the need for strategic investment to increase list size and engagement.\n",
       "    *   applovin: Lowest volume, might not be worth significant investment unless ROI can be substantially increased.\n",
       "\n",
       "**3. Outliers and Unusual Patterns**\n",
       "\n",
       "*   **Direct Traffic Anomaly:** The high mean revenue per order from \"Direct\" traffic, combined with its substantial volume, is an outlier. It's critical to understand *why* Direct traffic performs so well. Is it loyal customers who spend more? Is it the result of offline marketing efforts?\n",
       "*   **Google's Volume, Lower RPO:** While Google drives the most orders, its lower mean revenue per order compared to Direct and Klaviyo suggests potential for optimization. Perhaps the Google traffic converts at a high rate but mostly consists of customers who are purchasing entry-level products.\n",
       "*   **Klaviyo's High RPO, Low Volume:** The high RPO for Klaviyo is encouraging. It signifies that email marketing efforts are targeting a highly valuable segment of your customer base. However, the low volume implies a need for list growth and optimized email strategies.\n",
       "*   **Variance Across Sources:** The differences in average revenue per order (RPO) across channels indicate different customer acquisition costs (CAC), customer lifetime values (LTV), or product preferences.\n",
       "\n",
       "**4. Strategic Recommendations**\n",
       "\n",
       "*   **Investment Priorities:**\n",
       "\n",
       "    *   **Google:**  Continue investing, but focus on optimizing for higher-value customers. Consider segmenting your Google Ads campaigns to target customers with higher purchase intent or lifetime value. Explore audience targeting (e.g., demographic, affinity, in-market) and adjust bidding strategies accordingly.\n",
       "    *   **Klaviyo:** Invest in growing your email list. Implement strategies like:\n",
       "        *   Lead magnets (e.g., discounts, exclusive content) on your website.\n",
       "        *   Optimize your website for email capture.\n",
       "        *   Run targeted email campaigns based on customer behavior (e.g., abandoned cart, post-purchase).\n",
       "        *   Focus on engaging existing subscribers with personalized content and promotions to maximize RPO.\n",
       "    *   **Direct:**  Before investing more, thoroughly investigate the sources of your \"Direct\" traffic. Implement UTM tracking codes on all marketing campaigns to accurately attribute conversions. Consider using a tool to identify dark social shares.\n",
       "    *   **Facebook:** A solid contributor with good volume, but lower RPO than direct/klaviyo suggests there is potential to improve this.\n",
       "\n",
       "*   **Optimization Opportunities:**\n",
       "\n",
       "    *   **Google:**\n",
       "        *   **Keyword Refinement:** Analyze search terms bringing in traffic and refine your keyword targeting to focus on high-intent keywords.\n",
       "        *   **Ad Copy Optimization:**  Test different ad copy to highlight higher-value products or special offers.\n",
       "        *   **Landing Page Optimization:**  Ensure landing pages are optimized for conversion, with clear calls to action and relevant product recommendations.\n",
       "    *   **fb:**\n",
       "        *   **Audience Refinement:**  Optimize your ad targeting to reach a more affluent audience or customers with a higher propensity to spend.\n",
       "        *   **Creative Testing:**  Experiment with different ad formats (e.g., video, carousel) and creative elements (e.g., images, headlines) to improve click-through rates and conversion rates.\n",
       "    *   **Applovin:** Closely monitor ROI. If it's not significantly improving with optimization, consider reallocating resources to higher-performing channels.\n",
       "\n",
       "*   **A/B Tests and Experiments:**\n",
       "\n",
       "    *   **Landing Page Optimization:**  Test different landing page layouts, calls to action, and product displays to improve conversion rates for all traffic sources, especially Google.\n",
       "    *   **Pricing Strategies:**  Experiment with different pricing tiers or bundle offers to encourage higher average order values.\n",
       "    *   **Checkout Process:** Simplify the checkout process to reduce cart abandonment rates, especially for mobile users.\n",
       "    *   **Email Marketing:** Test different email subject lines, content, and send times to improve open rates, click-through rates, and conversions for Klaviyo.\n",
       "    *   **Personalization:** A/B test personalized product recommendations based on browsing history or purchase behavior to increase RPO.\n",
       "\n",
       "**5. Comparison to E-commerce Benchmarks**\n",
       "\n",
       "*   **Traffic Source Mix:** The relative importance of Google, Direct, and Facebook as traffic sources aligns with typical e-commerce benchmarks. However, the specific percentages may vary depending on your industry, target audience, and marketing strategy.\n",
       "*   **Average Order Value (AOV):**  Calculate your overall AOV by averaging the mean revenue per order across all sources, weighted by order volume. Compare this to industry benchmarks for your product category. Websites like Statista, IRP Commerce, and Littledata provide e-commerce benchmarks for AOV, conversion rates, and traffic source distribution.\n",
       "*   **Conversion Rates:**  Ideally, you'd want to track conversion rates (percentage of visitors who place an order) for each traffic source. Compare these conversion rates to industry benchmarks to identify areas for improvement.\n",
       "*   **Customer Acquisition Cost (CAC):**  Track the cost of acquiring a customer through each traffic source. This will help you determine the ROI of your marketing investments.\n",
       "\n",
       "**Additional Data Needed:**\n",
       "\n",
       "*   **Customer Lifetime Value (CLTV):**  Understanding the CLTV for each traffic source is crucial for making informed investment decisions.  Klaviyo users often have higher lifetime value.\n",
       "*   **Cost Per Acquisition (CPA) or Cost Per Order (CPO):**  Knowing how much it costs to acquire a customer or generate an order through each source allows for better ROI calculation.\n",
       "*   **Demographic and Psychographic Data:**  Understanding the demographics and psychographics of your customers from each traffic source can help you tailor your marketing messages and product offerings.\n",
       "*   **Detailed Direct Traffic Breakdown:** Identify where \"direct\" users are actually coming from (e.g., bookmarks, email campaigns, social shares). Use UTM parameters to properly track these sources.\n",
       "*   **Product Category Performance by Source:** Understanding which product categories are most popular within each traffic source can help you optimize product merchandising and targeting.\n",
       "\n",
       "By combining the data you've provided with this additional information and by implementing the recommended strategies, you can optimize your traffic sources, increase revenue, and improve your overall e-commerce performance.\n"
      ],
      "text/plain": [
       "<IPython.core.display.Markdown object>"
      ]
     },
     "metadata": {},
     "output_type": "display_data"
    }
   ],
   "source": [
    "response = make_gemini_request(request_text=prompt)\n",
    "display(Markdown(response))"
   ]
  }
 ],
 "metadata": {
  "kernelspec": {
   "display_name": "ai",
   "language": "python",
   "name": "python3"
  },
  "language_info": {
   "codemirror_mode": {
    "name": "ipython",
    "version": 3
   },
   "file_extension": ".py",
   "mimetype": "text/x-python",
   "name": "python",
   "nbconvert_exporter": "python",
   "pygments_lexer": "ipython3",
   "version": "3.13.3"
  }
 },
 "nbformat": 4,
 "nbformat_minor": 5
}
